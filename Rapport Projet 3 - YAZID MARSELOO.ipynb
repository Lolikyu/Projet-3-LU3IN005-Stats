{
 "cells": [
  {
   "cell_type": "markdown",
   "id": "106cd595",
   "metadata": {},
   "source": [
    "# Projet 3 (LU3IN005) : Chaines de Markov et épidémiologie :\n",
    "# Propagation d’une épidémie dans une population"
   ]
  },
  {
   "cell_type": "markdown",
   "id": "0d99c9ba",
   "metadata": {},
   "source": [
    "### <u>Groupe 6 :</u>\n",
    "<pr>Samy (Adem) YAZID<br>Numéro étudiant : $3811684$<br><br>Margaux MARSELOO<br>Numéro étudiant : $28630611$</pr> "
   ]
  },
  {
   "cell_type": "markdown",
   "id": "88d801a3",
   "metadata": {},
   "source": [
    "### <u>**Consignes :**</u>\n",
    "<pr>\n",
    "\n",
    "L’objectif de ce projet est de manipuler des chaînes de Markov pour étudier la propagation d’une épidémie dans une population. Votre rendu sera un notebook, il est attendu que les codes soient commentés\n",
    "et les résultats interprétés. Les packages <em>numpy</em>, <em>random</em> et <em>matplotlib</em> sont conseillés.\n",
    "Nous allons étudier des populations constituées de $3$ types d’individus. Chaque individu est dans un\n",
    "des $3$ états suivant : sain $S$, infecté $I$ ou guéri $R$.\n",
    "</pr>\n",
    "\n",
    "## I) <u>Apprentissage des paramètres d’un modèle à partir de données</u>\n",
    "\n",
    "<pr>\n",
    "    \n",
    "Dans notre modèle, nous allons considérer qu’à chaque temps :\n",
    "- Chaque individu sain peut rester sain ou devenir infecté\n",
    "- Chaque individu infecté peut rester infecté ou devenir guéri\n",
    "- Chaque individu guéri reste guéri\n",
    "et que la probabilité de passer d’un état à l’autre ne dépend que de l’état précédent.\n",
    "\n",
    "Nous disposons d’une séquence d’observations et nous souhaitons apprendre les paramètres de la\n",
    "chaîne de Markov permettant de modéliser le processus sous-jacent qui a généré la séquence.\n",
    "Nous avons suivi un individu pendant $10$ jours, afin de déterminer a chaque temps dans quel état se trouvait l’individu.\n",
    "Nous avons obtenu la séquence d’observation suivante : $S, S, S, I, I ,I ,I , I, I, R$.\n",
    "</pr>\n",
    "\n",
    "\n",
    "<pr><u>**Question 1:**</u> À partir de cette séquence d’observation, estimez de les probabilités de transition entre les états et dresser la matrice de probabilité de transitions.</pr>\n"
   ]
  },
  {
   "cell_type": "code",
   "execution_count": null,
   "id": "5517c98d",
   "metadata": {},
   "outputs": [],
   "source": []
  },
  {
   "cell_type": "markdown",
   "id": "86831f9b",
   "metadata": {},
   "source": [
    "<pr><u>**Question 2:**</u>\n",
    "1) Lire des données\n",
    "2) Estimez les probabilités de transition entre les états et dressez la matrice de probabilité de transitions\n",
    "(indice pour vérifier vos résultats : la première ligne de la matrice est $[0.9308, 0.0691, 0.]$).\n",
    "</pr>"
   ]
  },
  {
   "cell_type": "code",
   "execution_count": null,
   "id": "bb4b8df1",
   "metadata": {},
   "outputs": [],
   "source": []
  },
  {
   "cell_type": "markdown",
   "id": "f4369eef",
   "metadata": {},
   "source": [
    "## II) <u>Description du premier modèle</u>\n",
    "<pr>La probabilité pour un individu d’être dans un de ces $3$ états au temps $t$, ne dépend que l’état dans\n",
    "lequel il est au temps $t − 1$.\n",
    "Un individu dans l’état sain a une probabilité de $0.92$ de rester sain et une probabilité de $0.08$ de\n",
    "devenir infecté. Si l’individu est infecté, il peut le rester avec une probabilité de $0.93$ et être guéri avec\n",
    "une probabilité de $0.07$. S’il est dans l’état guéri, il reste dans cet état avec une probabilité de $1$.\n",
    "\n",
    "<u>**Question 1:**</u> À partir du graphe de transition, créez la matrice de transition $A$, la matrice contenant les probabilités de transition entre les différents états. Créez une fonction permettant de vérifier qu’une matrice est stochastique.\n",
    "</pr>"
   ]
  },
  {
   "cell_type": "code",
   "execution_count": null,
   "id": "96ba3c0e",
   "metadata": {},
   "outputs": [],
   "source": []
  },
  {
   "cell_type": "markdown",
   "id": "2d2b1405",
   "metadata": {},
   "source": [
    "<pr>\n",
    "Au temps $t = 0$, un individu a une probabilité de $0.9$ d’être sain et $0.1$ d’être infecté.\n",
    "\n",
    "<u>**Question 2:**</u> Créez $π_0$ la distribution de probabilité initiale.\n",
    "</pr>"
   ]
  },
  {
   "cell_type": "code",
   "execution_count": null,
   "id": "da5b886f",
   "metadata": {},
   "outputs": [],
   "source": []
  },
  {
   "cell_type": "markdown",
   "id": "1efebd36",
   "metadata": {},
   "source": [
    "<pr>\n",
    "Nous allons étudier l’évolution du nombre d’individu sains, infectés et guéris au cours du temps.\n",
    "Dans un premier temps nous étudierons la distribution théorique, puis la distribution observée sur des simulations.\n",
    "</pr>\n",
    "\n",
    "### <u>Distribution $π_t$<u>\n",
    "\n",
    "<pr><u>**Question 1:**</u> En utilisant $π_0$ et $A$, donnez la probabilité pour un individu d’être sain, infecté ou guéri au temps $t = 1$ (faire d’abord le calcul à la main).\n",
    "</pr>\n"
   ]
  },
  {
   "cell_type": "code",
   "execution_count": null,
   "id": "40f15c62",
   "metadata": {},
   "outputs": [],
   "source": []
  },
  {
   "cell_type": "markdown",
   "id": "431bc571",
   "metadata": {},
   "source": [
    "<pr><u>**Question 2:**</u> Donnez la probabilité pour un individu d’être sain, infecté ou guéri au temps $t = 2$ (faire d’abord le calcul à la main).\n",
    "</pr>"
   ]
  },
  {
   "cell_type": "code",
   "execution_count": null,
   "id": "e5808335",
   "metadata": {},
   "outputs": [],
   "source": []
  },
  {
   "cell_type": "markdown",
   "id": "c2b84c8e",
   "metadata": {},
   "source": [
    "<pr><u>**Question 3:**</u> De même pour chaque temps $t$ entre $1$ et $200$, calculez la distribution théorique des effectifs dans chaque état (<em>Rappel:</em> $π_t + 1 = π_t . A$ ).\n",
    "</pr>"
   ]
  },
  {
   "cell_type": "code",
   "execution_count": null,
   "id": "233da301",
   "metadata": {},
   "outputs": [],
   "source": []
  },
  {
   "cell_type": "markdown",
   "id": "1f76e41e",
   "metadata": {},
   "source": [
    "<pr><u>**Question 4:**</u> Représentez graphiquement la probabilité d’être dans chaque état en fonction du temps. (+ décrivez un peu ce que vous observez).\n",
    "</pr>"
   ]
  },
  {
   "cell_type": "code",
   "execution_count": null,
   "id": "b9a90de7",
   "metadata": {},
   "outputs": [],
   "source": []
  },
  {
   "cell_type": "markdown",
   "id": "4a6fe208",
   "metadata": {},
   "source": [
    "### <u>Tirage aléatoire des états</u>\n",
    "<pr>Vous allez générer une séquence de taille $T$ en utilisant cette chaîne de Markov. Pour générer une séquence aléatoire, choisissiez un état initial au hasard (en utilisant $π_0$) ; puis choisissez les états suivants en suivant les probabilités de transition <em>(= la matrice de transition $A$).</em>\n",
    "Vous pouvez prendre $T=150$.\n",
    "</pr>"
   ]
  },
  {
   "cell_type": "code",
   "execution_count": null,
   "id": "a66c01f0",
   "metadata": {},
   "outputs": [],
   "source": []
  },
  {
   "cell_type": "markdown",
   "id": "6e00c8dd",
   "metadata": {},
   "source": [
    "### <u>Modélisation d’une population</u>\n",
    "<pr>Vous avez généré une séquence d’état pour un individu. Maintenant vous allez générer un ensemble de séquences pour une population de 200 individus.\n",
    "\n",
    "<u>**Question 1:**</u> À chaque temps $t$, comptez le nombre d’individus sains, infectés et guéris dans la population et affichez l’évolution du nombre d’individus dans les trois états en fonction du temps.\n",
    "</pr>"
   ]
  },
  {
   "cell_type": "code",
   "execution_count": null,
   "id": "59569e64",
   "metadata": {},
   "outputs": [],
   "source": []
  },
  {
   "cell_type": "markdown",
   "id": "ffacfae0",
   "metadata": {},
   "source": [
    "<pr><u>**Question 2:**</u> Affichez le pourcentage d’individus sains infectés et guéris en fonction du temps.\n",
    "</pr>"
   ]
  },
  {
   "cell_type": "code",
   "execution_count": null,
   "id": "2a15c5a9",
   "metadata": {},
   "outputs": [],
   "source": []
  },
  {
   "cell_type": "markdown",
   "id": "688fca4f",
   "metadata": {},
   "source": [
    "<pr><u>**Question 3:**</u> Quand $t$ est grand, quelle est la proportion d’individus sains, infectés et guéris ?\n",
    "</pr>"
   ]
  },
  {
   "cell_type": "code",
   "execution_count": null,
   "id": "9f2f68ed",
   "metadata": {},
   "outputs": [],
   "source": []
  },
  {
   "cell_type": "markdown",
   "id": "07118a89",
   "metadata": {},
   "source": [
    "<pr><u>**Question 4:**</u> Refaites les questions précédentes avec des populations de tailles différentes, $5$ individus et $5000$ individus par exemple.\n",
    "</pr>"
   ]
  },
  {
   "cell_type": "code",
   "execution_count": null,
   "id": "c2fbb7a0",
   "metadata": {},
   "outputs": [],
   "source": []
  },
  {
   "cell_type": "markdown",
   "id": "baf2ea1d",
   "metadata": {},
   "source": [
    "### <u>Longueur de l’infection</u>\n",
    "<pr>Vous avez généré une séquence d’état pour un individu. Maintenant vous allez générer un ensemble de séquences pour une population de 200 individus.\n",
    "\n",
    "<u>**Question 1:**</u> À partir des simulations, estimez la longueur moyenne d’une séquence de $I$.\n",
    "</pr>"
   ]
  },
  {
   "cell_type": "code",
   "execution_count": null,
   "id": "95e6a366",
   "metadata": {},
   "outputs": [],
   "source": []
  },
  {
   "cell_type": "markdown",
   "id": "2316e427",
   "metadata": {},
   "source": [
    "<u>**Question 2:**</u> Afficher la distribution observée de la longueur d’infection (peut-être que pour représenter une distribution, ça serait une bonne idée de faire un histogramme).\n",
    "</pr>"
   ]
  },
  {
   "cell_type": "code",
   "execution_count": null,
   "id": "9a818a2b",
   "metadata": {},
   "outputs": [],
   "source": []
  },
  {
   "cell_type": "markdown",
   "id": "eadd1f93",
   "metadata": {},
   "source": [
    "<u>**Question 3:**</u> Calculez la longueur théorique d’une séquence de $I$ (vous pourrez utiliser l’espérance de la loi géométrique en justifiant).\n",
    "</pr>"
   ]
  },
  {
   "cell_type": "code",
   "execution_count": null,
   "id": "17003d57",
   "metadata": {},
   "outputs": [],
   "source": []
  },
  {
   "cell_type": "markdown",
   "id": "721b9154",
   "metadata": {},
   "source": [
    "<u>**Question 4:**</u> Comparer la longueur estimée et la longueur théorique.\n",
    "</pr>"
   ]
  },
  {
   "cell_type": "code",
   "execution_count": null,
   "id": "86974e8c",
   "metadata": {},
   "outputs": [],
   "source": []
  },
  {
   "cell_type": "markdown",
   "id": "d6a95675",
   "metadata": {},
   "source": [
    "<u>**Question 5:**</u> Affichez la distribution théorique de la longueur d’infection.\n",
    "</pr>"
   ]
  },
  {
   "cell_type": "code",
   "execution_count": null,
   "id": "d18c74ed",
   "metadata": {},
   "outputs": [],
   "source": []
  },
  {
   "cell_type": "markdown",
   "id": "ccc17614",
   "metadata": {},
   "source": [
    "### <u>Petites modifications autour de ce premier modèle</u>\n",
    "<pr>Vous pouvez maintenant modifier le modèle pour étudier différents cas de figure, en\n",
    "faisant varier certains paramètres :\n",
    "</pr>"
   ]
  },
  {
   "cell_type": "code",
   "execution_count": null,
   "id": "c27cc563",
   "metadata": {},
   "outputs": [],
   "source": []
  },
  {
   "cell_type": "markdown",
   "id": "886dd567",
   "metadata": {},
   "source": [
    "<u>**Question 1:**</u> Faire varier la taille de la population.\n",
    "</pr>"
   ]
  },
  {
   "cell_type": "code",
   "execution_count": null,
   "id": "431ee88f",
   "metadata": {},
   "outputs": [],
   "source": []
  },
  {
   "cell_type": "markdown",
   "id": "6e0ba431",
   "metadata": {},
   "source": [
    "<u>**Question 2:**</u> Faire varier la distribution de probabilité initiale.\n",
    "</pr>"
   ]
  },
  {
   "cell_type": "code",
   "execution_count": null,
   "id": "090a5911",
   "metadata": {},
   "outputs": [],
   "source": []
  },
  {
   "cell_type": "markdown",
   "id": "72773104",
   "metadata": {},
   "source": [
    "<u>**Question 3:**</u> Faire varier les probabilités de transition.\n",
    "</pr>"
   ]
  },
  {
   "cell_type": "code",
   "execution_count": null,
   "id": "a80c3073",
   "metadata": {},
   "outputs": [],
   "source": []
  },
  {
   "cell_type": "markdown",
   "id": "f170cbea",
   "metadata": {},
   "source": [
    "## III) <u>Description du second modèle</u>\n",
    "<pr>Nous allons maintenant considérer un second modèle, les individus guéris peuvent redevenir sains avec une probabilité de $0.02$. Ils-elles peuvent perdre leur immunité face à la maladie.\n",
    "</pr>\n",
    "\n",
    "### <u>Analyse du modèle</u>\n",
    "\n",
    "<pr>\n",
    "\n",
    "<u>**Question 1:**</u> Ce processus peut-il être modélisé par une chaîne de Markov ?\n",
    "</pr>"
   ]
  },
  {
   "cell_type": "code",
   "execution_count": null,
   "id": "5544260e",
   "metadata": {},
   "outputs": [],
   "source": []
  },
  {
   "cell_type": "markdown",
   "id": "eba57a12",
   "metadata": {},
   "source": [
    "<pr>\n",
    "\n",
    "<u>**Question 2:**</u>\n",
    "Donnez la nouvelle matrice de transition.\n",
    "</pr>"
   ]
  },
  {
   "cell_type": "code",
   "execution_count": null,
   "id": "bfbc1949",
   "metadata": {},
   "outputs": [],
   "source": []
  },
  {
   "cell_type": "markdown",
   "id": "daeaccac",
   "metadata": {},
   "source": [
    "<pr>\n",
    "    \n",
    "<u>**Question 3:**</u> Quels est la nature des états de cette chaîne de Markov ? Est-elle périodique ? Est-elle irréductible ?\n",
    "</pr>"
   ]
  },
  {
   "cell_type": "code",
   "execution_count": null,
   "id": "2b027405",
   "metadata": {},
   "outputs": [],
   "source": []
  },
  {
   "cell_type": "markdown",
   "id": "1a39f99c",
   "metadata": {},
   "source": [
    "<pr>\n",
    "    \n",
    "<u>**Question 4:**</u> Calculez la matrice $A × A$. À quoi correspond-elle ? Est elle stochastique ? Même question pour $A^3$ et $A^4$.\n",
    "</pr>"
   ]
  },
  {
   "cell_type": "code",
   "execution_count": null,
   "id": "565a4850",
   "metadata": {},
   "outputs": [],
   "source": []
  },
  {
   "cell_type": "markdown",
   "id": "b6c7cda5",
   "metadata": {},
   "source": [
    "<pr>\n",
    "    \n",
    "<u>**Question 5:**</u> Réalisez les nouvelles simulations. Comment la population évolue-t-elle ?\n",
    "</pr>"
   ]
  },
  {
   "cell_type": "code",
   "execution_count": null,
   "id": "f9096bb9",
   "metadata": {},
   "outputs": [],
   "source": []
  },
  {
   "cell_type": "markdown",
   "id": "7b876f4f",
   "metadata": {},
   "source": [
    "<pr>\n",
    "    \n",
    "<u>**Question 6:**</u> Refaites les simulations avec une autre distribution de probabilité initiale (par exemple si au temps $t = 0$, nous avons $90%$ d’infectés et $10%$ de sains). Explorez d’autres initialisations et comme pour chaque question commentez vos observations.\n",
    "</pr>"
   ]
  },
  {
   "cell_type": "code",
   "execution_count": null,
   "id": "c01c1382",
   "metadata": {},
   "outputs": [],
   "source": []
  },
  {
   "cell_type": "markdown",
   "id": "dd334835",
   "metadata": {},
   "source": [
    "<pr>\n",
    "    \n",
    "<u>**Question 7:**</u> Calculez la distribution de probabilité stationnaire et comparez ce résultat avec les simulations pour\n",
    "$t$ assez grand.\n",
    "</pr>"
   ]
  },
  {
   "cell_type": "code",
   "execution_count": null,
   "id": "7c71d7f5",
   "metadata": {},
   "outputs": [],
   "source": []
  },
  {
   "cell_type": "markdown",
   "id": "7fe56a84",
   "metadata": {},
   "source": [
    "### <u>Longueur de l’immunité</u>\n",
    "\n",
    "<pr>\n",
    "    \n",
    "On peut se demander combien de temps un individu qui a été malade, reste protégé contre la maladie.\n",
    "    \n",
    "<u>**Question 1:**</u> À partir des simulations, estimez la longueur moyenne d’une séquence de $R$.\n",
    "</pr>"
   ]
  },
  {
   "cell_type": "code",
   "execution_count": null,
   "id": "d847dd85",
   "metadata": {},
   "outputs": [],
   "source": []
  },
  {
   "cell_type": "markdown",
   "id": "12fd5aaf",
   "metadata": {},
   "source": [
    "<pr>\n",
    "    \n",
    "<u>**Question 2:**</u> Calculez la longueur théorique d’une séquence de $R$.\n",
    "</pr>"
   ]
  },
  {
   "cell_type": "code",
   "execution_count": null,
   "id": "93ac3633",
   "metadata": {},
   "outputs": [],
   "source": []
  },
  {
   "cell_type": "markdown",
   "id": "7e36401b",
   "metadata": {},
   "source": [
    "<pr>\n",
    "    \n",
    "<u>**Question 3:**</u> Affichez la distribution théorique et la distribution observée de la longueur de l’immunité.\n",
    "</pr>"
   ]
  },
  {
   "cell_type": "code",
   "execution_count": null,
   "id": "8f941d4b",
   "metadata": {},
   "outputs": [],
   "source": []
  },
  {
   "cell_type": "markdown",
   "id": "8d3c1e37",
   "metadata": {},
   "source": [
    "### <u>Modifier le modèle</u>\n",
    "\n",
    "<pr>\n",
    "   \n",
    "<u>**Question 1:**</u> Comment l’épidémie évolue-t-elle si vous modifiez la probabilité pour un individu sain de devenir infecté ? Quelle est la nouvelle distribution a l’équilibre ?\n",
    "</pr>"
   ]
  },
  {
   "cell_type": "code",
   "execution_count": null,
   "id": "3b437dfa",
   "metadata": {},
   "outputs": [],
   "source": []
  },
  {
   "cell_type": "markdown",
   "id": "554eb976",
   "metadata": {},
   "source": [
    "<pr>\n",
    "    \n",
    "<u>**Question 2:**</u> Calculez la longueur théorique d’une séquence de $R$.\n",
    "</pr>"
   ]
  },
  {
   "cell_type": "code",
   "execution_count": null,
   "id": "f16529f4",
   "metadata": {},
   "outputs": [],
   "source": []
  },
  {
   "cell_type": "markdown",
   "id": "f8991579",
   "metadata": {},
   "source": [
    "## IV) <u>Confinement</u>\n",
    "<pr>On peut imaginer que si des mesures de distanciation sociale sont mises en place, la probabilité de devenir infecté devient nulle.\n",
    "\n",
    "Nous allons alterner entre les périodes de non distanciation et de distanciation :\n",
    "- En période de non-confinement, nous utilisons la matrice de transition de l’exercice précédent\n",
    "- En période de confinement, la probabilité de devenir infecté pour un individu sain devient nulle\n",
    "\n",
    "<u>**Question 1:**</u> Commencez les simulations avec la matrice de transition de l’exercice précédent.\n",
    "- On peut considérer qu’au temps initial tous les individus sont sains.\n",
    "- Quand il y a $25%$ d’individus infectés dans la population, nous passons en période de distanciation. Le nombre d’individus infectés va décroître.\n",
    "- Quand il y a moins de $10%$ d’infectés, le confinement est levé.\n",
    "</pr>"
   ]
  },
  {
   "cell_type": "code",
   "execution_count": null,
   "id": "a83d1285",
   "metadata": {},
   "outputs": [],
   "source": []
  },
  {
   "cell_type": "markdown",
   "id": "54a4c80a",
   "metadata": {},
   "source": [
    "<pr>\n",
    "    \n",
    "<u>**Question 2:**</u> Faites les simulations pour une population assez grande, représentez l’évolution du nombre d’individus à chaque temps $t$ (vous devriez voir des “vagues”), et notez les temps de confinement et de deconfinement.\n",
    "</pr>"
   ]
  },
  {
   "cell_type": "code",
   "execution_count": null,
   "id": "b1af1db8",
   "metadata": {},
   "outputs": [],
   "source": []
  },
  {
   "cell_type": "markdown",
   "id": "7fd87e8f",
   "metadata": {},
   "source": [
    "<pr>\n",
    "    \n",
    "<u>**Question 3:**</u> Combien de confinements / déconfinements sont nécessaires ?\n",
    "</pr>"
   ]
  },
  {
   "cell_type": "code",
   "execution_count": null,
   "id": "688b1e75",
   "metadata": {},
   "outputs": [],
   "source": []
  },
  {
   "cell_type": "markdown",
   "id": "4fd64762",
   "metadata": {},
   "source": [
    "## V) <u>Discussion</u>\n",
    "\n",
    "<pr>\n",
    "\n",
    "<u>**Question 1:**</u> Quelles remarques critiques pouvez faire sur les modèles utilisés ?\n",
    "</pr>"
   ]
  },
  {
   "cell_type": "code",
   "execution_count": null,
   "id": "bdc5a2b7",
   "metadata": {},
   "outputs": [],
   "source": []
  },
  {
   "cell_type": "markdown",
   "id": "a5cfdb7b",
   "metadata": {},
   "source": [
    "<pr>\n",
    "    \n",
    "<u>**Question 2:**</u> <em>(Optionnelle)</em> Proposez des améliorations et implémentez-les si possible.\n",
    "</pr>"
   ]
  },
  {
   "cell_type": "code",
   "execution_count": null,
   "id": "8e46ff87",
   "metadata": {},
   "outputs": [],
   "source": []
  }
 ],
 "metadata": {
  "kernelspec": {
   "display_name": "Python 3 (ipykernel)",
   "language": "python",
   "name": "python3"
  },
  "language_info": {
   "codemirror_mode": {
    "name": "ipython",
    "version": 3
   },
   "file_extension": ".py",
   "mimetype": "text/x-python",
   "name": "python",
   "nbconvert_exporter": "python",
   "pygments_lexer": "ipython3",
   "version": "3.11.0"
  }
 },
 "nbformat": 4,
 "nbformat_minor": 5
}
