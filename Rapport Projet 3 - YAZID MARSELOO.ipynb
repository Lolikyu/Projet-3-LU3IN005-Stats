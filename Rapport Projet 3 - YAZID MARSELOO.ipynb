{
 "cells": [
  {
   "cell_type": "markdown",
   "id": "1a719b8e",
   "metadata": {},
   "source": [
    "# Projet 3 (LU3IN005) : Chaines de Markov et épidémiologie :\n",
    "# Propagation d’une épidémie dans une population"
   ]
  },
  {
   "cell_type": "markdown",
   "id": "f35bf20d",
   "metadata": {},
   "source": [
    "### <u>Groupe 6 :</u>\n",
    "<pr>Samy (Adem) YAZID<br>Numéro étudiant : $3811684$<br><br>Margaux MARSELOO<br>Numéro étudiant : $28630611$</pr> "
   ]
  },
  {
   "cell_type": "markdown",
   "id": "bf8bcb18",
   "metadata": {},
   "source": [
    "### <u>**Consignes :**</u>\n",
    "<pr>\n",
    "\n",
    "L’objectif de ce projet est de manipuler des chaînes de Markov pour étudier la propagation d’une épidémie dans une population.<br>\n",
    "Votre rendu sera un notebook, il est attendu que les codes soient commentés et les résultats interprétés.<br>\n",
    "Les packages <em>numpy</em>, <em>random</em> et <em>matplotlib</em> sont conseillés.<br>\n",
    "Nous allons étudier des populations constituées de $3$ types d’individus.<br>\n",
    "Chaque individu est dans un des $3$ états suivant : sain $S$, infecté $I$ ou guéri $R$.\n",
    "</pr>"
   ]
  },
  {
   "cell_type": "code",
   "execution_count": 4,
   "id": "60f3f596",
   "metadata": {},
   "outputs": [],
   "source": [
    "import numpy as np\n",
    "import math\n",
    "import matplotlib.pyplot as plt\n",
    "import random"
   ]
  },
  {
   "cell_type": "markdown",
   "id": "c434636a",
   "metadata": {},
   "source": [
    "## I) <u>Apprentissage des paramètres d’un modèle à partir de données</u>\n",
    "\n",
    "<pr>\n",
    "    \n",
    "Dans notre modèle, nous allons considérer qu’à chaque temps :\n",
    "- Chaque individu sain peut rester sain ou devenir infecté\n",
    "- Chaque individu infecté peut rester infecté ou devenir guéri\n",
    "- Chaque individu guéri reste guéri\n",
    "et que la probabilité de passer d’un état à l’autre ne dépend que de l’état précédent.\n",
    "\n",
    "Nous disposons d’une séquence d’observations et nous souhaitons apprendre les paramètres de la\n",
    "chaîne de Markov permettant de modéliser le processus sous-jacent qui a généré la séquence.<br>\n",
    "Nous avons suivi un individu pendant $10$ jours, afin de déterminer a chaque temps dans quel état se trouvait l’individu.<br>\n",
    "Nous avons obtenu la séquence d’observation suivante : $S, S, S, I, I ,I ,I , I, I, R$.\n",
    "</pr>\n",
    "\n",
    "\n",
    "<pr><u>**Question 1:**</u> À partir de cette séquence d’observation, estimez de les probabilités de transition entre les états et dresser la matrice de probabilité de transitions.</pr>\n"
   ]
  },
  {
   "cell_type": "markdown",
   "id": "5bfb4322",
   "metadata": {},
   "source": [
    "Matrice de transition du modèle :\n",
    "$\n",
    "\\begin{pmatrix}\n",
    "  &   S &   I &   R \\\\\n",
    "S & 2/3 & 1/3 &   0 \\\\\n",
    "I &   0 & 5/6 & 1/6 \\\\\n",
    "R &   0 &   0 &   1 \\\\\n",
    "\\end{pmatrix}\n",
    "$"
   ]
  },
  {
   "cell_type": "code",
   "execution_count": 6,
   "id": "7f5c5ce5",
   "metadata": {},
   "outputs": [],
   "source": [
    "matrice_transition = np.array([[2/3, 1/3,   0], \n",
    "                               [  0, 5/6, 1/6], \n",
    "                               [  0,   0,   1]])"
   ]
  },
  {
   "cell_type": "markdown",
   "id": "65282d1f",
   "metadata": {},
   "source": [
    "<pr>\n",
    "Nous avons ensuite suivi une population de $5000$ individus, pendant $200$ jours.<br>\n",
    "Pour lire les données, utiliser <code>np.loadtxt(\"data_exo_2022.txt\")</code>.<br>\n",
    "Les individus sains sont notés $0$, les infectés $1$ et les guéris $2$.\n",
    "\n",
    "<u>**Question 2:**</u>\n",
    "1) Lire des données\n",
    "2) Estimez les probabilités de transition entre les états et dressez la matrice de probabilité de transitions\n",
    "(indice pour vérifier vos résultats : la première ligne de la matrice est $[0.9308, 0.0691, 0.]$).\n",
    "</pr>"
   ]
  },
  {
   "cell_type": "code",
   "execution_count": null,
   "id": "7dac415a",
   "metadata": {},
   "outputs": [],
   "source": []
  },
  {
   "cell_type": "markdown",
   "id": "d04231ac",
   "metadata": {},
   "source": [
    "## II) <u>Description du premier modèle</u>\n",
    "<pr>La probabilité pour un individu d’être dans un de ces $3$ états au temps $t$, ne dépend que l’état dans\n",
    "lequel il est au temps $t − 1$.<br>\n",
    "Un individu dans l’état sain a une probabilité de $0.92$ de rester sain et une probabilité de $0.08$ de\n",
    "devenir infecté. Si l’individu est infecté, il peut le rester avec une probabilité de $0.93$ et être guéri avec\n",
    "une probabilité de $0.07$. S’il est dans l’état guéri, il reste dans cet état avec une probabilité de $1$.\n",
    "\n",
    "<u>**Question 1:**</u> À partir du graphe de transition, créez la matrice de transition $A$, la matrice contenant les probabilités de transition entre les différents états. Créez une fonction permettant de vérifier qu’une matrice est stochastique.\n",
    "</pr>"
   ]
  },
  {
   "cell_type": "code",
   "execution_count": null,
   "id": "3cc11b17",
   "metadata": {},
   "outputs": [],
   "source": []
  },
  {
   "cell_type": "markdown",
   "id": "49b8030a",
   "metadata": {},
   "source": [
    "<pr>\n",
    "Au temps $t = 0$, un individu a une probabilité de $0.9$ d’être sain et $0.1$ d’être infecté.\n",
    "\n",
    "<u>**Question 2:**</u> Créez $π_0$ la distribution de probabilité initiale.\n",
    "</pr>"
   ]
  },
  {
   "cell_type": "code",
   "execution_count": null,
   "id": "ad52bf4c",
   "metadata": {},
   "outputs": [],
   "source": []
  },
  {
   "cell_type": "markdown",
   "id": "c87ad299",
   "metadata": {},
   "source": [
    "<pr>\n",
    "Nous allons étudier l’évolution du nombre d’individu sains, infectés et guéris au cours du temps.\n",
    "Dans un premier temps nous étudierons la distribution théorique, puis la distribution observée sur des simulations.\n",
    "</pr>\n",
    "\n",
    "### <u>Distribution $π_t$<u>\n",
    "\n",
    "<pr><u>**Question 1:**</u> En utilisant $π_0$ et $A$, donnez la probabilité pour un individu d’être sain, infecté ou guéri au temps $t = 1$ (faire d’abord le calcul à la main).\n",
    "</pr>\n"
   ]
  },
  {
   "cell_type": "code",
   "execution_count": null,
   "id": "78eed55b",
   "metadata": {},
   "outputs": [],
   "source": []
  },
  {
   "cell_type": "markdown",
   "id": "e7cf4331",
   "metadata": {},
   "source": [
    "<pr><u>**Question 2:**</u> Donnez la probabilité pour un individu d’être sain, infecté ou guéri au temps $t = 2$ (faire d’abord le calcul à la main).\n",
    "</pr>"
   ]
  },
  {
   "cell_type": "code",
   "execution_count": null,
   "id": "ca1b0836",
   "metadata": {},
   "outputs": [],
   "source": []
  },
  {
   "cell_type": "markdown",
   "id": "f8c3695d",
   "metadata": {},
   "source": [
    "<pr><u>**Question 3:**</u> De même pour chaque temps $t$ entre $1$ et $200$, calculez la distribution théorique des effectifs dans chaque état (<em>Rappel:</em> $π_t + 1 = π_t . A$ ).\n",
    "</pr>"
   ]
  },
  {
   "cell_type": "code",
   "execution_count": null,
   "id": "9f79800e",
   "metadata": {},
   "outputs": [],
   "source": []
  },
  {
   "cell_type": "markdown",
   "id": "e8f54d48",
   "metadata": {},
   "source": [
    "<pr><u>**Question 4:**</u> Représentez graphiquement la probabilité d’être dans chaque état en fonction du temps. (+ décrivez un peu ce que vous observez).\n",
    "</pr>"
   ]
  },
  {
   "cell_type": "code",
   "execution_count": null,
   "id": "fee4cea4",
   "metadata": {},
   "outputs": [],
   "source": []
  },
  {
   "cell_type": "markdown",
   "id": "6c594b21",
   "metadata": {},
   "source": [
    "### <u>Tirage aléatoire des états</u>\n",
    "<pr>Vous allez générer une séquence de taille $T$ en utilisant cette chaîne de Markov. Pour générer une séquence aléatoire, choisissiez un état initial au hasard (en utilisant $π_0$) ; puis choisissez les états suivants en suivant les probabilités de transition <em>(= la matrice de transition $A$).</em>\n",
    "Vous pouvez prendre $T=150$.\n",
    "</pr>"
   ]
  },
  {
   "cell_type": "code",
   "execution_count": null,
   "id": "db550b5f",
   "metadata": {},
   "outputs": [],
   "source": []
  },
  {
   "cell_type": "markdown",
   "id": "721d91fb",
   "metadata": {},
   "source": [
    "### <u>Modélisation d’une population</u>\n",
    "<pr>Vous avez généré une séquence d’état pour un individu. Maintenant vous allez générer un ensemble de séquences pour une population de 200 individus.\n",
    "\n",
    "<u>**Question 1:**</u> À chaque temps $t$, comptez le nombre d’individus sains, infectés et guéris dans la population et affichez l’évolution du nombre d’individus dans les trois états en fonction du temps.\n",
    "</pr>"
   ]
  },
  {
   "cell_type": "code",
   "execution_count": null,
   "id": "a348ffe6",
   "metadata": {},
   "outputs": [],
   "source": []
  },
  {
   "cell_type": "markdown",
   "id": "45eeeaaa",
   "metadata": {},
   "source": [
    "<pr><u>**Question 2:**</u> Affichez le pourcentage d’individus sains infectés et guéris en fonction du temps.\n",
    "</pr>"
   ]
  },
  {
   "cell_type": "code",
   "execution_count": null,
   "id": "fc6bf70f",
   "metadata": {},
   "outputs": [],
   "source": []
  },
  {
   "cell_type": "markdown",
   "id": "3b551dc0",
   "metadata": {},
   "source": [
    "<pr><u>**Question 3:**</u> Quand $t$ est grand, quelle est la proportion d’individus sains, infectés et guéris ?\n",
    "</pr>"
   ]
  },
  {
   "cell_type": "code",
   "execution_count": null,
   "id": "fe154cc6",
   "metadata": {},
   "outputs": [],
   "source": []
  },
  {
   "cell_type": "markdown",
   "id": "d9f4990b",
   "metadata": {},
   "source": [
    "<pr><u>**Question 4:**</u> Refaites les questions précédentes avec des populations de tailles différentes, $5$ individus et $5000$ individus par exemple.\n",
    "</pr>"
   ]
  },
  {
   "cell_type": "code",
   "execution_count": null,
   "id": "f55e73dd",
   "metadata": {},
   "outputs": [],
   "source": []
  },
  {
   "cell_type": "markdown",
   "id": "70d0dcfd",
   "metadata": {},
   "source": [
    "### <u>Longueur de l’infection</u>\n",
    "<pr>Vous avez généré une séquence d’état pour un individu. Maintenant vous allez générer un ensemble de séquences pour une population de 200 individus.\n",
    "\n",
    "<u>**Question 1:**</u> À partir des simulations, estimez la longueur moyenne d’une séquence de $I$.\n",
    "</pr>"
   ]
  },
  {
   "cell_type": "code",
   "execution_count": null,
   "id": "bed16548",
   "metadata": {},
   "outputs": [],
   "source": []
  },
  {
   "cell_type": "markdown",
   "id": "808c0037",
   "metadata": {},
   "source": [
    "<u>**Question 2:**</u> Afficher la distribution observée de la longueur d’infection (peut-être que pour représenter une distribution, ça serait une bonne idée de faire un histogramme).\n",
    "</pr>"
   ]
  },
  {
   "cell_type": "code",
   "execution_count": null,
   "id": "e3b0fa98",
   "metadata": {},
   "outputs": [],
   "source": []
  },
  {
   "cell_type": "markdown",
   "id": "94508d1c",
   "metadata": {},
   "source": [
    "<u>**Question 3:**</u> Calculez la longueur théorique d’une séquence de $I$ (vous pourrez utiliser l’espérance de la loi géométrique en justifiant).\n",
    "</pr>"
   ]
  },
  {
   "cell_type": "code",
   "execution_count": null,
   "id": "1fe18535",
   "metadata": {},
   "outputs": [],
   "source": []
  },
  {
   "cell_type": "markdown",
   "id": "aace9899",
   "metadata": {},
   "source": [
    "<u>**Question 4:**</u> Comparer la longueur estimée et la longueur théorique.\n",
    "</pr>"
   ]
  },
  {
   "cell_type": "code",
   "execution_count": null,
   "id": "eb6f6716",
   "metadata": {},
   "outputs": [],
   "source": []
  },
  {
   "cell_type": "markdown",
   "id": "6ba1c4a7",
   "metadata": {},
   "source": [
    "<u>**Question 5:**</u> Affichez la distribution théorique de la longueur d’infection.\n",
    "</pr>"
   ]
  },
  {
   "cell_type": "code",
   "execution_count": null,
   "id": "034f1504",
   "metadata": {},
   "outputs": [],
   "source": []
  },
  {
   "cell_type": "markdown",
   "id": "60e3f317",
   "metadata": {},
   "source": [
    "### <u>Petites modifications autour de ce premier modèle</u>\n",
    "<pr>Vous pouvez maintenant modifier le modèle pour étudier différents cas de figure, en\n",
    "faisant varier certains paramètres :\n",
    "</pr>"
   ]
  },
  {
   "cell_type": "code",
   "execution_count": null,
   "id": "c825ca87",
   "metadata": {},
   "outputs": [],
   "source": []
  },
  {
   "cell_type": "markdown",
   "id": "83c03430",
   "metadata": {},
   "source": [
    "<u>**Question 1:**</u> Faire varier la taille de la population.\n",
    "</pr>"
   ]
  },
  {
   "cell_type": "code",
   "execution_count": null,
   "id": "bc1d8ab6",
   "metadata": {},
   "outputs": [],
   "source": []
  },
  {
   "cell_type": "markdown",
   "id": "c7204f67",
   "metadata": {},
   "source": [
    "<u>**Question 2:**</u> Faire varier la distribution de probabilité initiale.\n",
    "</pr>"
   ]
  },
  {
   "cell_type": "code",
   "execution_count": null,
   "id": "86b8387d",
   "metadata": {},
   "outputs": [],
   "source": []
  },
  {
   "cell_type": "markdown",
   "id": "c7532cba",
   "metadata": {},
   "source": [
    "<u>**Question 3:**</u> Faire varier les probabilités de transition.\n",
    "</pr>"
   ]
  },
  {
   "cell_type": "code",
   "execution_count": null,
   "id": "6245bce4",
   "metadata": {},
   "outputs": [],
   "source": []
  },
  {
   "cell_type": "markdown",
   "id": "4b75c1b6",
   "metadata": {},
   "source": [
    "## III) <u>Description du second modèle</u>\n",
    "<pr>Nous allons maintenant considérer un second modèle, les individus guéris peuvent redevenir sains avec une probabilité de $0.02$. Ils-elles peuvent perdre leur immunité face à la maladie.\n",
    "</pr>\n",
    "\n",
    "### <u>Analyse du modèle</u>\n",
    "\n",
    "<pr>\n",
    "\n",
    "<u>**Question 1:**</u> Ce processus peut-il être modélisé par une chaîne de Markov ?\n",
    "</pr>"
   ]
  },
  {
   "cell_type": "code",
   "execution_count": null,
   "id": "0dea084b",
   "metadata": {},
   "outputs": [],
   "source": []
  },
  {
   "cell_type": "markdown",
   "id": "637060e8",
   "metadata": {},
   "source": [
    "<pr>\n",
    "\n",
    "<u>**Question 2:**</u>\n",
    "Donnez la nouvelle matrice de transition.\n",
    "</pr>"
   ]
  },
  {
   "cell_type": "code",
   "execution_count": null,
   "id": "3ef7b1e9",
   "metadata": {},
   "outputs": [],
   "source": []
  },
  {
   "cell_type": "markdown",
   "id": "639f7366",
   "metadata": {},
   "source": [
    "<pr>\n",
    "    \n",
    "<u>**Question 3:**</u> Quels est la nature des états de cette chaîne de Markov ? Est-elle périodique ? Est-elle irréductible ?\n",
    "</pr>"
   ]
  },
  {
   "cell_type": "code",
   "execution_count": null,
   "id": "bb461e44",
   "metadata": {},
   "outputs": [],
   "source": []
  },
  {
   "cell_type": "markdown",
   "id": "01f2742b",
   "metadata": {},
   "source": [
    "<pr>\n",
    "    \n",
    "<u>**Question 4:**</u> Calculez la matrice $A × A$. À quoi correspond-elle ? Est elle stochastique ? Même question pour $A^3$ et $A^4$.\n",
    "</pr>"
   ]
  },
  {
   "cell_type": "code",
   "execution_count": null,
   "id": "65902177",
   "metadata": {},
   "outputs": [],
   "source": []
  },
  {
   "cell_type": "markdown",
   "id": "1e85b861",
   "metadata": {},
   "source": [
    "<pr>\n",
    "    \n",
    "<u>**Question 5:**</u> Réalisez les nouvelles simulations. Comment la population évolue-t-elle ?\n",
    "</pr>"
   ]
  },
  {
   "cell_type": "code",
   "execution_count": null,
   "id": "fe54d081",
   "metadata": {},
   "outputs": [],
   "source": []
  },
  {
   "cell_type": "markdown",
   "id": "c759e9d8",
   "metadata": {},
   "source": [
    "<pr>\n",
    "    \n",
    "<u>**Question 6:**</u> Refaites les simulations avec une autre distribution de probabilité initiale (par exemple si au temps $t = 0$, nous avons $90%$ d’infectés et $10%$ de sains). Explorez d’autres initialisations et comme pour chaque question commentez vos observations.\n",
    "</pr>"
   ]
  },
  {
   "cell_type": "code",
   "execution_count": null,
   "id": "8b9c8892",
   "metadata": {},
   "outputs": [],
   "source": []
  },
  {
   "cell_type": "markdown",
   "id": "30924b9e",
   "metadata": {},
   "source": [
    "<pr>\n",
    "    \n",
    "<u>**Question 7:**</u> Calculez la distribution de probabilité stationnaire et comparez ce résultat avec les simulations pour\n",
    "$t$ assez grand.\n",
    "</pr>"
   ]
  },
  {
   "cell_type": "code",
   "execution_count": null,
   "id": "f1a45f61",
   "metadata": {},
   "outputs": [],
   "source": []
  },
  {
   "cell_type": "markdown",
   "id": "06bcdb4d",
   "metadata": {},
   "source": [
    "### <u>Longueur de l’immunité</u>\n",
    "\n",
    "<pr>\n",
    "    \n",
    "On peut se demander combien de temps un individu qui a été malade, reste protégé contre la maladie.\n",
    "    \n",
    "<u>**Question 1:**</u> À partir des simulations, estimez la longueur moyenne d’une séquence de $R$.\n",
    "</pr>"
   ]
  },
  {
   "cell_type": "code",
   "execution_count": null,
   "id": "cb46512f",
   "metadata": {},
   "outputs": [],
   "source": []
  },
  {
   "cell_type": "markdown",
   "id": "a78011b9",
   "metadata": {},
   "source": [
    "<pr>\n",
    "    \n",
    "<u>**Question 2:**</u> Calculez la longueur théorique d’une séquence de $R$.\n",
    "</pr>"
   ]
  },
  {
   "cell_type": "code",
   "execution_count": null,
   "id": "851795ca",
   "metadata": {},
   "outputs": [],
   "source": []
  },
  {
   "cell_type": "markdown",
   "id": "51825f19",
   "metadata": {},
   "source": [
    "<pr>\n",
    "    \n",
    "<u>**Question 3:**</u> Affichez la distribution théorique et la distribution observée de la longueur de l’immunité.\n",
    "</pr>"
   ]
  },
  {
   "cell_type": "code",
   "execution_count": null,
   "id": "5b4876c5",
   "metadata": {},
   "outputs": [],
   "source": []
  },
  {
   "cell_type": "markdown",
   "id": "2b938e37",
   "metadata": {},
   "source": [
    "### <u>Modifier le modèle</u>\n",
    "\n",
    "<pr>\n",
    "   \n",
    "<u>**Question 1:**</u> Comment l’épidémie évolue-t-elle si vous modifiez la probabilité pour un individu sain de devenir infecté ? Quelle est la nouvelle distribution a l’équilibre ?\n",
    "</pr>"
   ]
  },
  {
   "cell_type": "code",
   "execution_count": null,
   "id": "3e555fd1",
   "metadata": {},
   "outputs": [],
   "source": []
  },
  {
   "cell_type": "markdown",
   "id": "859290a2",
   "metadata": {},
   "source": [
    "<pr>\n",
    "    \n",
    "<u>**Question 2:**</u> Calculez la longueur théorique d’une séquence de $R$.\n",
    "</pr>"
   ]
  },
  {
   "cell_type": "code",
   "execution_count": null,
   "id": "b554f754",
   "metadata": {},
   "outputs": [],
   "source": []
  },
  {
   "cell_type": "markdown",
   "id": "20919c51",
   "metadata": {},
   "source": [
    "## IV) <u>Confinement</u>\n",
    "<pr>On peut imaginer que si des mesures de distanciation sociale sont mises en place, la probabilité de devenir infecté devient nulle.\n",
    "\n",
    "Nous allons alterner entre les périodes de non distanciation et de distanciation :\n",
    "- En période de non-confinement, nous utilisons la matrice de transition de l’exercice précédent\n",
    "- En période de confinement, la probabilité de devenir infecté pour un individu sain devient nulle\n",
    "\n",
    "<u>**Question 1:**</u> Commencez les simulations avec la matrice de transition de l’exercice précédent.\n",
    "- On peut considérer qu’au temps initial tous les individus sont sains.\n",
    "- Quand il y a $25%$ d’individus infectés dans la population, nous passons en période de distanciation. Le nombre d’individus infectés va décroître.\n",
    "- Quand il y a moins de $10%$ d’infectés, le confinement est levé.\n",
    "</pr>"
   ]
  },
  {
   "cell_type": "code",
   "execution_count": null,
   "id": "36f473af",
   "metadata": {},
   "outputs": [],
   "source": []
  },
  {
   "cell_type": "markdown",
   "id": "b677f17d",
   "metadata": {},
   "source": [
    "<pr>\n",
    "    \n",
    "<u>**Question 2:**</u> Faites les simulations pour une population assez grande, représentez l’évolution du nombre d’individus à chaque temps $t$ (vous devriez voir des “vagues”), et notez les temps de confinement et de deconfinement.\n",
    "</pr>"
   ]
  },
  {
   "cell_type": "code",
   "execution_count": null,
   "id": "a3023398",
   "metadata": {},
   "outputs": [],
   "source": []
  },
  {
   "cell_type": "markdown",
   "id": "750da5c5",
   "metadata": {},
   "source": [
    "<pr>\n",
    "    \n",
    "<u>**Question 3:**</u> Combien de confinements / déconfinements sont nécessaires ?\n",
    "</pr>"
   ]
  },
  {
   "cell_type": "code",
   "execution_count": null,
   "id": "22148537",
   "metadata": {},
   "outputs": [],
   "source": []
  },
  {
   "cell_type": "markdown",
   "id": "c4dbe55d",
   "metadata": {},
   "source": [
    "## V) <u>Discussion</u>\n",
    "\n",
    "<pr>\n",
    "\n",
    "<u>**Question 1:**</u> Quelles remarques critiques pouvez faire sur les modèles utilisés ?\n",
    "</pr>"
   ]
  },
  {
   "cell_type": "code",
   "execution_count": null,
   "id": "0182b629",
   "metadata": {},
   "outputs": [],
   "source": []
  },
  {
   "cell_type": "markdown",
   "id": "8040218d",
   "metadata": {},
   "source": [
    "<pr>\n",
    "    \n",
    "<u>**Question 2:**</u> <em>(Optionnelle)</em> Proposez des améliorations et implémentez-les si possible.\n",
    "</pr>"
   ]
  },
  {
   "cell_type": "code",
   "execution_count": null,
   "id": "42a1c133",
   "metadata": {},
   "outputs": [],
   "source": []
  }
 ],
 "metadata": {
  "kernelspec": {
   "display_name": "Python 3 (ipykernel)",
   "language": "python",
   "name": "python3"
  },
  "language_info": {
   "codemirror_mode": {
    "name": "ipython",
    "version": 3
   },
   "file_extension": ".py",
   "mimetype": "text/x-python",
   "name": "python",
   "nbconvert_exporter": "python",
   "pygments_lexer": "ipython3",
   "version": "3.11.0"
  }
 },
 "nbformat": 4,
 "nbformat_minor": 5
}
